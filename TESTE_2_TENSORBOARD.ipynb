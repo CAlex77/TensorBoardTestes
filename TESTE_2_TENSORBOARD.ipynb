{
 "cells": [
  {
   "cell_type": "code",
   "execution_count": 1,
   "id": "ec16ce3f",
   "metadata": {},
   "outputs": [],
   "source": [
    "import tensorflow as tf\n",
    "import numpy as np\n",
    "import matplotlib.pyplot as plt\n",
    "from datetime import datetime\n",
    "from keras.datasets import fashion_mnist\n",
    "from keras.utils import to_categorical\n",
    "from keras.models import Sequential\n",
    "from keras.layers import Conv2D, MaxPooling2D, Flatten, Dropout, Dense\n",
    "from keras.callbacks import TensorBoard"
   ]
  },
  {
   "cell_type": "code",
   "execution_count": 2,
   "id": "29378faf",
   "metadata": {},
   "outputs": [],
   "source": [
    "#Carregar o conjunto de dados Fashion MNIST\n",
    "(X_treino, y_treino), (X_teste, y_teste) = fashion_mnist.load_data()\n"
   ]
  },
  {
   "cell_type": "code",
   "execution_count": 3,
   "id": "ec5fb604",
   "metadata": {},
   "outputs": [],
   "source": [
    "#Configurar o TensorBoard\n",
    "logdir = 'logs/scalars/' + datetime.now().strftime('%Y%m%d-%H%M%S')\n",
    "tensorboard_callback = TensorBoard(log_dir=logdir)"
   ]
  },
  {
   "cell_type": "code",
   "execution_count": 4,
   "id": "b67f01c8",
   "metadata": {},
   "outputs": [
    {
     "data": {
      "image/png": "[encoded data removed]",
      "text/plain": [
       "<Figure size 640x480 with 1 Axes>"
      ]
     },
     "metadata": {},
     "output_type": "display_data"
    },
    {
     "data": {
      "image/png": "[encoded data removed]",
      "text/plain": [
       "<Figure size 640x480 with 1 Axes>"
      ]
     },
     "metadata": {},
     "output_type": "display_data"
    },
    {
     "data": {
      "image/png": "[encoded data removed]",
      "text/plain": [
       "<Figure size 640x480 with 1 Axes>"
      ]
     },
     "metadata": {},
     "output_type": "display_data"
    },
    {
     "data": {
      "image/png": "[encoded data removed]",
      "text/plain": [
       "<Figure size 640x480 with 1 Axes>"
      ]
     },
     "metadata": {},
     "output_type": "display_data"
    },
    {
     "data": {
      "image/png": "[encoded data removed]",
      "text/plain": [
       "<Figure size 640x480 with 1 Axes>"
      ]
     },
     "metadata": {},
     "output_type": "display_data"
    },
    {
     "data": {
      "image/png": "[encoded data removed]",
      "text/plain": [
       "<Figure size 640x480 with 1 Axes>"
      ]
     },
     "metadata": {},
     "output_type": "display_data"
    }
   ],
   "source": [
    "#Exibir exemplos de imagens do conjunto de treinamento\n",
    "for x in range(6):\n",
    "    plt.subplot(330 + 1 + x)\n",
    "    plt.imshow(X_treino[x], cmap=plt.get_cmap('gray'))\n",
    "    plt.show()"
   ]
  },
  {
   "cell_type": "code",
   "execution_count": 5,
   "id": "35d10cb5",
   "metadata": {},
   "outputs": [],
   "source": [
    "#Pré-processar os dados\n",
    "X_treino = X_treino.astype('float32') / 255\n",
    "X_teste = X_teste.astype('float32') / 255\n",
    "\n",
    "X_treino = np.expand_dims(X_treino, -1)\n",
    "X_teste = np.expand_dims(X_teste, -1)"
   ]
  },
  {
   "cell_type": "code",
   "execution_count": 6,
   "id": "00151aba",
   "metadata": {},
   "outputs": [
    {
     "name": "stdout",
     "output_type": "stream",
     "text": [
      "Dimensão X_treino: (60000, 28, 28, 1)\n",
      "Amostras de treino: 60000\n",
      "Amostras de teste: 10000\n"
     ]
    }
   ],
   "source": [
    "\n",
    "#Imprimir as dimensões dos dados\n",
    "print('Dimensão X_treino:', X_treino.shape)\n",
    "print('Amostras de treino:', X_treino.shape[0])\n",
    "print('Amostras de teste:', X_teste.shape[0])\n"
   ]
  },
  {
   "cell_type": "code",
   "execution_count": 7,
   "id": "57e9baee",
   "metadata": {},
   "outputs": [],
   "source": [
    "#Converter os rótulos para categoricais\n",
    "num_classes = 10\n",
    "y_treino = to_categorical(y_treino, num_classes)\n",
    "y_teste = to_categorical(y_teste, num_classes)\n"
   ]
  },
  {
   "cell_type": "code",
   "execution_count": 8,
   "id": "1b2865be",
   "metadata": {},
   "outputs": [
    {
     "name": "stdout",
     "output_type": "stream",
     "text": [
      "Model: \"sequential\"\n",
      "_________________________________________________________________\n",
      " Layer (type)                Output Shape              Param #   \n",
      "=================================================================\n",
      " conv2d (Conv2D)             (None, 26, 26, 32)        320       \n",
      "                                                                 \n",
      " max_pooling2d (MaxPooling2D  (None, 13, 13, 32)       0         \n",
      " )                                                               \n",
      "                                                                 \n",
      " conv2d_1 (Conv2D)           (None, 11, 11, 64)        18496     \n",
      "                                                                 \n",
      " max_pooling2d_1 (MaxPooling  (None, 5, 5, 64)         0         \n",
      " 2D)                                                             \n",
      "                                                                 \n",
      " flatten (Flatten)           (None, 1600)              0         \n",
      "                                                                 \n",
      " dropout (Dropout)           (None, 1600)              0         \n",
      "                                                                 \n",
      " dense (Dense)               (None, 10)                16010     \n",
      "                                                                 \n",
      "=================================================================\n",
      "Total params: 34,826\n",
      "Trainable params: 34,826\n",
      "Non-trainable params: 0\n",
      "_________________________________________________________________\n",
      "None\n"
     ]
    }
   ],
   "source": [
    "#Criar o modelo\n",
    "dimensoes_entrada = (28, 28, 1)\n",
    "modelo = Sequential([\n",
    "Conv2D(32, kernel_size=(3, 3), activation=\"tanh\", input_shape=dimensoes_entrada),\n",
    "MaxPooling2D(pool_size=(2, 2)),\n",
    "Conv2D(64, kernel_size=(3, 3), activation=\"tanh\"),\n",
    "MaxPooling2D(pool_size=(2, 2)),\n",
    "Flatten(),\n",
    "Dropout(0.5),\n",
    "Dense(num_classes, activation=\"softmax\")\n",
    "])\n",
    "\n",
    "print(modelo.summary())"
   ]
  },
  {
   "cell_type": "code",
   "execution_count": 9,
   "id": "09ff44c2",
   "metadata": {},
   "outputs": [
    {
     "name": "stdout",
     "output_type": "stream",
     "text": [
      "Epoch 1/10\n",
      "844/844 [==============================] - 43s 49ms/step - loss: 1.0888 - accuracy: 0.6231 - val_loss: 0.6672 - val_accuracy: 0.7518\n",
      "Epoch 2/10\n",
      "844/844 [==============================] - 41s 49ms/step - loss: 0.6753 - accuracy: 0.7514 - val_loss: 0.5695 - val_accuracy: 0.7845\n",
      "Epoch 3/10\n",
      "844/844 [==============================] - 41s 49ms/step - loss: 0.5964 - accuracy: 0.7834 - val_loss: 0.5199 - val_accuracy: 0.8032\n",
      "Epoch 4/10\n",
      "844/844 [==============================] - 42s 49ms/step - loss: 0.5512 - accuracy: 0.7982 - val_loss: 0.4916 - val_accuracy: 0.8205\n",
      "Epoch 5/10\n",
      "844/844 [==============================] - 41s 49ms/step - loss: 0.5206 - accuracy: 0.8104 - val_loss: 0.4689 - val_accuracy: 0.8318\n",
      "Epoch 6/10\n",
      "844/844 [==============================] - 36s 43ms/step - loss: 0.4993 - accuracy: 0.8194 - val_loss: 0.4535 - val_accuracy: 0.8367\n",
      "Epoch 7/10\n",
      "844/844 [==============================] - 42s 49ms/step - loss: 0.4835 - accuracy: 0.8254 - val_loss: 0.4390 - val_accuracy: 0.8393\n",
      "Epoch 8/10\n",
      "844/844 [==============================] - 42s 50ms/step - loss: 0.4676 - accuracy: 0.8308 - val_loss: 0.4289 - val_accuracy: 0.8473\n",
      "Epoch 9/10\n",
      "844/844 [==============================] - 42s 50ms/step - loss: 0.4574 - accuracy: 0.8334 - val_loss: 0.4220 - val_accuracy: 0.8455\n",
      "Epoch 10/10\n",
      "844/844 [==============================] - 42s 49ms/step - loss: 0.4499 - accuracy: 0.8391 - val_loss: 0.4152 - val_accuracy: 0.8455\n"
     ]
    }
   ],
   "source": [
    "#Compilar e treinar o modelo\n",
    "tamanho_lote = 64\n",
    "epocas = 10\n",
    "modelo.compile(loss='categorical_crossentropy', optimizer='sgd', metrics=['accuracy'])\n",
    "historico_treinamento = modelo.fit(X_treino, y_treino, batch_size=tamanho_lote, epochs=epocas,\n",
    "validation_split=0.1, callbacks=[tensorboard_callback])\n"
   ]
  },
  {
   "cell_type": "code",
   "execution_count": 10,
   "id": "fcb794ca",
   "metadata": {},
   "outputs": [
    {
     "name": "stdout",
     "output_type": "stream",
     "text": [
      "Erro no teste: 0.43646\n",
      "Acurácia no teste: 0.8424\n"
     ]
    }
   ],
   "source": [
    "#Avaliar o modelo\n",
    "resultado = modelo.evaluate(X_teste, y_teste, verbose=0)\n",
    "print('Erro no teste:', round(resultado[0], 5))\n",
    "print('Acurácia no teste:', round(resultado[1], 5))\n"
   ]
  },
  {
   "cell_type": "code",
   "execution_count": 11,
   "id": "df6c2768",
   "metadata": {},
   "outputs": [
    {
     "data": {
      "text/html": [
       "\n",
       "      <iframe id=\"tensorboard-frame-67ccb27b4f04551c\" width=\"100%\" height=\"800\" frameborder=\"0\">\n",
       "      </iframe>\n",
       "      <script>\n",
       "        (function() {\n",
       "          const frame = document.getElementById(\"tensorboard-frame-67ccb27b4f04551c\");\n",
       "          const url = new URL(\"/\", window.location);\n",
       "          const port = 6006;\n",
       "          if (port) {\n",
       "            url.port = port;\n",
       "          }\n",
       "          frame.src = url;\n",
       "        })();\n",
       "      </script>\n",
       "    "
      ],
      "text/plain": [
       "<IPython.core.display.HTML object>"
      ]
     },
     "metadata": {},
     "output_type": "display_data"
    }
   ],
   "source": [
    "# Inicializar o TensorBoard\n",
    "%load_ext tensorboard\n",
    "%tensorboard --logdir {logdir}\n",
    "#http://localhost:6006/"
   ]
  },
  {
   "cell_type": "code",
   "execution_count": null,
   "id": "76dac3a2",
   "metadata": {},
   "outputs": [],
   "source": []
  }
 ],
 "metadata": {
  "kernelspec": {
   "display_name": "Python 3 (ipykernel)",
   "language": "python",
   "name": "python3"
  },
  "language_info": {
   "codemirror_mode": {
    "name": "ipython",
    "version": 3
   },
   "file_extension": ".py",
   "mimetype": "text/x-python",
   "name": "python",
   "nbconvert_exporter": "python",
   "pygments_lexer": "ipython3",
   "version": "3.11.3"
  }
 },
 "nbformat": 4,
 "nbformat_minor": 5
}
